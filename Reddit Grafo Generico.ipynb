{
 "cells": [
  {
   "cell_type": "code",
   "execution_count": 1,
   "metadata": {},
   "outputs": [],
   "source": [
    "import networkx as nx\n",
    "import matplotlib.pyplot as plt\n",
    "import pandas as pd\n",
    "import seaborn as sns\n",
    "import math\n",
    "import matplotlib\n",
    "import numpy as np"
   ]
  },
  {
   "cell_type": "code",
   "execution_count": 2,
   "metadata": {},
   "outputs": [],
   "source": [
    "SUB = \"democrats\"\n",
    "\n",
    "ARCHIVOGRAFO = \"grafos/\" + SUB"
   ]
  },
  {
   "cell_type": "code",
   "execution_count": 3,
   "metadata": {},
   "outputs": [
    {
     "name": "stdout",
     "output_type": "stream",
     "text": [
      "881\n"
     ]
    }
   ],
   "source": [
    "g = nx.read_gml(ARCHIVOGRAFO + \".gml\")\n",
    "print(g.number_of_nodes())\n",
    "g\n",
    "\n",
    "coloresEjes = nx.read_gml(ARCHIVOGRAFO + \".gml\"+\".fd.gml\")"
   ]
  },
  {
   "cell_type": "code",
   "execution_count": 4,
   "metadata": {},
   "outputs": [],
   "source": [
    "def plotear(g,posicion):\n",
    "    color = [g.in_degree(x,weight=\"weight\") for x in nx.nodes(g)]\n",
    "    nodes = g.nodes()\n",
    "    colorEjes = [coloresEjes[u][v][\"color\"] for u,v in g.edges()]\n",
    "    #colorEjes= None\n",
    "    ec = nx.draw_networkx_edges(g, posicion, alpha=0.2, edge_color=colorEjes)\n",
    "    nc = nx.draw_networkx_nodes(g, posicion, nodelist=nodes, node_size=color,node_color=color,\n",
    "                                with_labels=True, cmap=\"plasma\", alpha=0.5)\n",
    "    cbar = plt.colorbar(nc)#, ticks=[1,medio,0.75*maxi,maxi])\n",
    "    #cbar.ax.set_yticklabels([1,10**medio,int(10**(0.75*maxi)),10**maxi])  # vertically oriented colorbar\n",
    "    plt.axis('off')"
   ]
  },
  {
   "cell_type": "code",
   "execution_count": 134,
   "metadata": {},
   "outputs": [
    {
     "name": "stdout",
     "output_type": "stream",
     "text": [
      "0.04529605677363358 83 0.0004755920047824316\n"
     ]
    }
   ],
   "source": [
    "print(nx.average_clustering(g),\n",
    "nx.number_connected_components(g),\n",
    "nx.density(g))"
   ]
  },
  {
   "cell_type": "code",
   "execution_count": 7,
   "metadata": {
    "scrolled": false
   },
   "outputs": [
    {
     "ename": "NetworkXNotImplemented",
     "evalue": "not implemented for directed type",
     "output_type": "error",
     "traceback": [
      "\u001b[0;31m---------------------------------------------------------------------------\u001b[0m",
      "\u001b[0;31mNetworkXNotImplemented\u001b[0m                    Traceback (most recent call last)",
      "\u001b[0;32m<ipython-input-7-46d2e5ed0f1d>\u001b[0m in \u001b[0;36m<module>\u001b[0;34m\u001b[0m\n\u001b[0;32m----> 1\u001b[0;31m \u001b[0mcomponentesConexas\u001b[0m \u001b[0;34m=\u001b[0m \u001b[0msorted\u001b[0m\u001b[0;34m(\u001b[0m\u001b[0mnx\u001b[0m\u001b[0;34m.\u001b[0m\u001b[0mconnected_components\u001b[0m\u001b[0;34m(\u001b[0m\u001b[0mg\u001b[0m\u001b[0;34m)\u001b[0m\u001b[0;34m,\u001b[0m \u001b[0mkey\u001b[0m \u001b[0;34m=\u001b[0m \u001b[0mlen\u001b[0m\u001b[0;34m,\u001b[0m \u001b[0mreverse\u001b[0m\u001b[0;34m=\u001b[0m\u001b[0;32mTrue\u001b[0m\u001b[0;34m)\u001b[0m\u001b[0;34m\u001b[0m\u001b[0;34m\u001b[0m\u001b[0m\n\u001b[0m\u001b[1;32m      2\u001b[0m \u001b[0mlaMayor\u001b[0m \u001b[0;34m=\u001b[0m \u001b[0mcomponentesConexas\u001b[0m\u001b[0;34m[\u001b[0m\u001b[0;36m0\u001b[0m\u001b[0;34m]\u001b[0m\u001b[0;34m\u001b[0m\u001b[0;34m\u001b[0m\u001b[0m\n\u001b[1;32m      3\u001b[0m \u001b[0ma\u001b[0m \u001b[0;34m=\u001b[0m \u001b[0;34m[\u001b[0m\u001b[0mlen\u001b[0m\u001b[0;34m(\u001b[0m\u001b[0mx\u001b[0m\u001b[0;34m)\u001b[0m \u001b[0;32mfor\u001b[0m \u001b[0mx\u001b[0m \u001b[0;32min\u001b[0m \u001b[0mcomponentesConexas\u001b[0m\u001b[0;34m]\u001b[0m\u001b[0;34m\u001b[0m\u001b[0;34m\u001b[0m\u001b[0m\n\u001b[1;32m      4\u001b[0m \u001b[0mprint\u001b[0m\u001b[0;34m(\u001b[0m\u001b[0ma\u001b[0m\u001b[0;34m,\u001b[0m \u001b[0mlen\u001b[0m\u001b[0;34m(\u001b[0m\u001b[0ma\u001b[0m\u001b[0;34m)\u001b[0m\u001b[0;34m)\u001b[0m\u001b[0;34m\u001b[0m\u001b[0;34m\u001b[0m\u001b[0m\n",
      "\u001b[0;32m<decorator-gen-294>\u001b[0m in \u001b[0;36mconnected_components\u001b[0;34m(G)\u001b[0m\n",
      "\u001b[0;32m~/.local/lib/python3.6/site-packages/networkx/utils/decorators.py\u001b[0m in \u001b[0;36m_not_implemented_for\u001b[0;34m(not_implement_for_func, *args, **kwargs)\u001b[0m\n\u001b[1;32m     78\u001b[0m         \u001b[0;32mif\u001b[0m \u001b[0mmatch\u001b[0m\u001b[0;34m:\u001b[0m\u001b[0;34m\u001b[0m\u001b[0;34m\u001b[0m\u001b[0m\n\u001b[1;32m     79\u001b[0m             \u001b[0mmsg\u001b[0m \u001b[0;34m=\u001b[0m \u001b[0;34m'not implemented for %s type'\u001b[0m \u001b[0;34m%\u001b[0m \u001b[0;34m' '\u001b[0m\u001b[0;34m.\u001b[0m\u001b[0mjoin\u001b[0m\u001b[0;34m(\u001b[0m\u001b[0mgraph_types\u001b[0m\u001b[0;34m)\u001b[0m\u001b[0;34m\u001b[0m\u001b[0;34m\u001b[0m\u001b[0m\n\u001b[0;32m---> 80\u001b[0;31m             \u001b[0;32mraise\u001b[0m \u001b[0mnx\u001b[0m\u001b[0;34m.\u001b[0m\u001b[0mNetworkXNotImplemented\u001b[0m\u001b[0;34m(\u001b[0m\u001b[0mmsg\u001b[0m\u001b[0;34m)\u001b[0m\u001b[0;34m\u001b[0m\u001b[0;34m\u001b[0m\u001b[0m\n\u001b[0m\u001b[1;32m     81\u001b[0m         \u001b[0;32melse\u001b[0m\u001b[0;34m:\u001b[0m\u001b[0;34m\u001b[0m\u001b[0;34m\u001b[0m\u001b[0m\n\u001b[1;32m     82\u001b[0m             \u001b[0;32mreturn\u001b[0m \u001b[0mnot_implement_for_func\u001b[0m\u001b[0;34m(\u001b[0m\u001b[0;34m*\u001b[0m\u001b[0margs\u001b[0m\u001b[0;34m,\u001b[0m \u001b[0;34m**\u001b[0m\u001b[0mkwargs\u001b[0m\u001b[0;34m)\u001b[0m\u001b[0;34m\u001b[0m\u001b[0;34m\u001b[0m\u001b[0m\n",
      "\u001b[0;31mNetworkXNotImplemented\u001b[0m: not implemented for directed type"
     ]
    }
   ],
   "source": [
    "componentesConexas = sorted(nx.connected_components(g), key = len, reverse=True)\n",
    "laMayor = componentesConexas[0]\n",
    "a = [len(x) for x in componentesConexas]\n",
    "print(a, len(a))"
   ]
  },
  {
   "cell_type": "code",
   "execution_count": 136,
   "metadata": {},
   "outputs": [],
   "source": [
    "mayorComponente = g.subgraph(laMayor)\n",
    "posiciones = nx.fruchterman_reingold_layout(mayorComponente)"
   ]
  },
  {
   "cell_type": "code",
   "execution_count": 12,
   "metadata": {},
   "outputs": [],
   "source": [
    "import pickle\n",
    "with open(\"posiciones\"+SUB+\".pickle\", \"wb\") as f:\n",
    "    pickle.dump(posiciones,f)"
   ]
  },
  {
   "cell_type": "code",
   "execution_count": 138,
   "metadata": {},
   "outputs": [],
   "source": [
    "%matplotlib tk\n",
    "plotear(mayorComponente,posiciones)\n",
    "plt.savefig(ARCHIVOGRAFO+\"mayorComponente\"+'.svg', format='svg', dpi=2400)"
   ]
  },
  {
   "cell_type": "code",
   "execution_count": null,
   "metadata": {},
   "outputs": [],
   "source": [
    "nx.density(mayorComponente)"
   ]
  },
  {
   "cell_type": "code",
   "execution_count": 71,
   "metadata": {},
   "outputs": [
    {
     "data": {
      "text/plain": [
       "881"
      ]
     },
     "execution_count": 71,
     "metadata": {},
     "output_type": "execute_result"
    }
   ],
   "source": [
    "posiciones = nx.fruchterman_reingold_layout(g)\n",
    "len(posiciones)"
   ]
  },
  {
   "cell_type": "code",
   "execution_count": 89,
   "metadata": {},
   "outputs": [],
   "source": [
    "%matplotlib tk\n",
    "plotear(g,posiciones)\n",
    "plt.show()"
   ]
  },
  {
   "cell_type": "code",
   "execution_count": 143,
   "metadata": {},
   "outputs": [
    {
     "data": {
      "text/plain": [
       "0.23492215777768086"
      ]
     },
     "execution_count": 143,
     "metadata": {},
     "output_type": "execute_result"
    }
   ],
   "source": [
    "a = [sum(g.get_edge_data(x,y)[\"weight\"] for y in g.neighbors(x)) for x in nx.nodes(g)]\n",
    "len([x for x in a if x > 10])/len([x for x in g.nodes()])"
   ]
  },
  {
   "cell_type": "code",
   "execution_count": 32,
   "metadata": {},
   "outputs": [],
   "source": [
    "def plotearDif(g,posicion):\n",
    "    ejesAzules = [(u,v) for u,v in g.edges() if coloresEjes[u][v][\"color\"] == 'blue']\n",
    "    ejesRojos = [(u,v) for u,v in g.edges() if coloresEjes[u][v][\"color\"] == 'red']\n",
    "    pesosEjesRojos = [g[u][v]['weight'] for u,v in g.edges() if coloresEjes[u][v][\"color\"] == 'red']\n",
    "    pesosEjesAzules = [g[u][v]['weight'] for u,v in g.edges() if coloresEjes[u][v][\"color\"] == 'blue']\n",
    "    #ej1 = nx.draw_networkx_edges(g, posicion,edgelist=ejesAzules, edge_size=pesosEjesAzules, edge_cmap=plt.cm.get_cmap('Blues'), edge_color='lightblue')\n",
    "    ej2 = nx.draw_networkx_edges(g, posicion,edgelist=ejesRojos , edge_size=pesosEjesRojos , edge_cmap=plt.cm.get_cmap('Reds'), arrows=False, zorder=10, edge_color='red')\n",
    "    nc = nx.draw_networkx_nodes(g, posicion, node_size=1, node_color='green')\n",
    "    #plt.colorbar(nc)\n",
    "    #plt.colorbar(ej1)\n",
    "    #cbar.ax.set_yticklabels([1,10**medio,int(10**(0.75*maxi)),10**maxi])  # vertically oriented colorbar\n",
    "    plt.axis('off')"
   ]
  },
  {
   "cell_type": "code",
   "execution_count": 6,
   "metadata": {},
   "outputs": [],
   "source": [
    "posiciones = nx.fruchterman_reingold_layout(g)"
   ]
  },
  {
   "cell_type": "code",
   "execution_count": 33,
   "metadata": {},
   "outputs": [],
   "source": [
    "%matplotlib tk\n",
    "plotearDif(g,posiciones)\n",
    "plt.show()"
   ]
  },
  {
   "cell_type": "code",
   "execution_count": null,
   "metadata": {},
   "outputs": [],
   "source": []
  },
  {
   "cell_type": "code",
   "execution_count": null,
   "metadata": {},
   "outputs": [],
   "source": []
  }
 ],
 "metadata": {
  "kernelspec": {
   "display_name": "Python 3",
   "language": "python",
   "name": "python3"
  },
  "language_info": {
   "codemirror_mode": {
    "name": "ipython",
    "version": 3
   },
   "file_extension": ".py",
   "mimetype": "text/x-python",
   "name": "python",
   "nbconvert_exporter": "python",
   "pygments_lexer": "ipython3",
   "version": "3.6.7"
  }
 },
 "nbformat": 4,
 "nbformat_minor": 1
}
