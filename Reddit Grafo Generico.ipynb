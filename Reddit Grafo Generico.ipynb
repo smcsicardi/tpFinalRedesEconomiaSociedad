{
 "cells": [
  {
   "cell_type": "code",
   "execution_count": 116,
   "metadata": {},
   "outputs": [],
   "source": [
    "import networkx as nx\n",
    "import matplotlib.pyplot as plt\n",
    "import pandas as pd\n",
    "import seaborn as sns\n",
    "import math"
   ]
  },
  {
   "cell_type": "code",
   "execution_count": 131,
   "metadata": {},
   "outputs": [],
   "source": [
    "SUB = \"the_donald\"\n",
    "\n",
    "ARCHIVOGRAFO = \"grafos/\" + SUB"
   ]
  },
  {
   "cell_type": "code",
   "execution_count": 144,
   "metadata": {},
   "outputs": [
    {
     "data": {
      "text/plain": [
       "<networkx.classes.multidigraph.MultiDiGraph at 0x7faed61b4ef0>"
      ]
     },
     "execution_count": 144,
     "metadata": {},
     "output_type": "execute_result"
    }
   ],
   "source": [
    "g = nx.read_gml(ARCHIVOGRAFO + \".gml\")\n",
    "g.number_of_nodes()"
   ]
  },
  {
   "cell_type": "code",
   "execution_count": null,
   "metadata": {},
   "outputs": [],
   "source": [
    "g.remove_nodes_from([x for x in g.nodes()])"
   ]
  },
  {
   "cell_type": "code",
   "execution_count": 133,
   "metadata": {},
   "outputs": [],
   "source": [
    "def plotear(g,posicion):\n",
    "    grado = [sum(g.get_edge_data(x,y)[\"weight\"] for y in g.neighbors(x)) for x in nx.nodes(g)]\n",
    "    grado = [1 if x == 1 else math.ceil(math.log(x,10)) for x in grado]\n",
    "    maxi = max(grado)\n",
    "    medio = int(maxi/2)\n",
    "    nodes = g.nodes()\n",
    "    ec = nx.draw_networkx_edges(g, posicion, alpha=0.2)\n",
    "    nc = nx.draw_networkx_nodes(g, posicion, nodelist=nodes, node_size=grado,node_color=grado,\n",
    "                                with_labels=False, cmap=\"plasma\")\n",
    "    cbar = plt.colorbar(nc, ticks=[1,medio,0.75*maxi,maxi])\n",
    "    cbar.ax.set_yticklabels([1,10**medio,int(10**(0.75*maxi)),10**maxi])  # vertically oriented colorbar\n",
    "    plt.axis('off')"
   ]
  },
  {
   "cell_type": "code",
   "execution_count": 134,
   "metadata": {},
   "outputs": [
    {
     "name": "stdout",
     "output_type": "stream",
     "text": [
      "0.04529605677363358 83 0.0004755920047824316\n"
     ]
    }
   ],
   "source": [
    "print(nx.average_clustering(g),\n",
    "nx.number_connected_components(g),\n",
    "nx.density(g))"
   ]
  },
  {
   "cell_type": "code",
   "execution_count": 135,
   "metadata": {
    "scrolled": false
   },
   "outputs": [
    {
     "name": "stdout",
     "output_type": "stream",
     "text": [
      "[22796, 4, 4, 4, 3, 3, 3, 3, 3, 2, 2, 2, 2, 2, 2, 2, 2, 2, 2, 2, 2, 2, 2, 2, 2, 2, 2, 2, 2, 2, 2, 2, 2, 2, 2, 2, 2, 2, 2, 2, 2, 2, 2, 1, 1, 1, 1, 1, 1, 1, 1, 1, 1, 1, 1, 1, 1, 1, 1, 1, 1, 1, 1, 1, 1, 1, 1, 1, 1, 1, 1, 1, 1, 1, 1, 1, 1, 1, 1, 1, 1, 1, 1] 83\n"
     ]
    }
   ],
   "source": [
    "componentesConexas = sorted(nx.connected_components(g), key = len, reverse=True)\n",
    "laMayor = componentesConexas[0]\n",
    "a = [len(x) for x in componentesConexas]\n",
    "print(a, len(a))"
   ]
  },
  {
   "cell_type": "code",
   "execution_count": 136,
   "metadata": {},
   "outputs": [],
   "source": [
    "mayorComponente = g.subgraph(laMayor)\n",
    "posiciones = nx.fruchterman_reingold_layout(mayorComponente)"
   ]
  },
  {
   "cell_type": "code",
   "execution_count": 137,
   "metadata": {},
   "outputs": [],
   "source": [
    "import pickle\n",
    "with open(\"posiciones\"+SUB+\".pickle\", \"wb\") as f:\n",
    "    pickle.dump(posiciones,f)"
   ]
  },
  {
   "cell_type": "code",
   "execution_count": 138,
   "metadata": {},
   "outputs": [],
   "source": [
    "%matplotlib tk\n",
    "plotear(mayorComponente,posiciones)\n",
    "plt.savefig(ARCHIVOGRAFO+\"mayorComponente\"+'.svg', format='svg', dpi=2400)"
   ]
  },
  {
   "cell_type": "code",
   "execution_count": null,
   "metadata": {},
   "outputs": [],
   "source": [
    "nx.density(mayorComponente)"
   ]
  },
  {
   "cell_type": "code",
   "execution_count": null,
   "metadata": {},
   "outputs": [],
   "source": [
    "posiciones = nx.fruchterman_reingold_layout(g)\n",
    "len(posiciones)"
   ]
  },
  {
   "cell_type": "code",
   "execution_count": null,
   "metadata": {},
   "outputs": [],
   "source": [
    "%matplotlib tk\n",
    "plotear(g,posiciones)\n",
    "plt.savefig(ARCHIVOGRAFO+'.svg', format='svg', dpi=2400)\n",
    "plt.show()"
   ]
  },
  {
   "cell_type": "code",
   "execution_count": 143,
   "metadata": {},
   "outputs": [
    {
     "data": {
      "text/plain": [
       "0.23492215777768086"
      ]
     },
     "execution_count": 143,
     "metadata": {},
     "output_type": "execute_result"
    }
   ],
   "source": [
    "a = [sum(g.get_edge_data(x,y)[\"weight\"] for y in g.neighbors(x)) for x in nx.nodes(g)]\n",
    "len([x for x in a if x > 10])/len([x for x in g.nodes()])"
   ]
  },
  {
   "cell_type": "code",
   "execution_count": null,
   "metadata": {},
   "outputs": [],
   "source": []
  }
 ],
 "metadata": {
  "kernelspec": {
   "display_name": "Python 3",
   "language": "python",
   "name": "python3"
  },
  "language_info": {
   "codemirror_mode": {
    "name": "ipython",
    "version": 3
   },
   "file_extension": ".py",
   "mimetype": "text/x-python",
   "name": "python",
   "nbconvert_exporter": "python",
   "pygments_lexer": "ipython3",
   "version": "3.6.7"
  }
 },
 "nbformat": 4,
 "nbformat_minor": 1
}
