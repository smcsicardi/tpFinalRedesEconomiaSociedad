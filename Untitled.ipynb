{
 "cells": [
  {
   "cell_type": "code",
   "execution_count": 4,
   "metadata": {},
   "outputs": [],
   "source": [
    "import networkx as nx\n",
    "import matplotlib.pyplot as plt\n",
    "import pandas as pd"
   ]
  },
  {
   "cell_type": "code",
   "execution_count": 5,
   "metadata": {},
   "outputs": [],
   "source": [
    "listaGrafos = ['android',\n",
    "'apple',\n",
    "'argentina',\n",
    "'askreddit',\n",
    "'breakingbad',\n",
    "'conspiracy',\n",
    "'democrats',\n",
    "'doctorwho',\n",
    "'funny',\n",
    "'gallifrey',\n",
    "'harrypotter',\n",
    "'metal',\n",
    "'nba',\n",
    "'news',\n",
    "'nfl',\n",
    "'politics',\n",
    "'programming',\n",
    "'science',\n",
    "'soccer',\n",
    "'the_donald',\n",
    "'worldnews',\n",
    "'brasil',\n",
    "'askmen',\n",
    "'askwomen',\n",
    "'gameofthrones',\n",
    "'asoiaf',\n",
    "'videos',\n",
    "'pics',\n",
    "'todayilearned',\n",
    "'space',\n",
    "'sports',\n",
    "'food']"
   ]
  },
  {
   "cell_type": "code",
   "execution_count": 6,
   "metadata": {},
   "outputs": [],
   "source": [
    "dicGrafos = {}\n",
    "\n",
    "for gr in listaGrafos:\n",
    "    grafoCreado = nx.read_gml(\"grafos/\" +gr + \".gml\")\n",
    "    dicGrafos[gr] = grafoCreado"
   ]
  },
  {
   "cell_type": "code",
   "execution_count": 7,
   "metadata": {},
   "outputs": [],
   "source": [
    "def commentsSobreUsers(grafo):\n",
    "    pesos = sum(grafo[u][v]['weight'] for u,v in grafo.edges())\n",
    "    return pesos/grafo.number_of_nodes()\n",
    "comSobreUs = [commentsSobreUsers(g1) for g1 in dicGrafos.values()]"
   ]
  },
  {
   "cell_type": "code",
   "execution_count": 8,
   "metadata": {},
   "outputs": [],
   "source": [
    "nodos = [g1.number_of_nodes() for g1 in dicGrafos.values()]\n",
    "clustering = [nx.average_clustering(g1) for g1 in dicGrafos.values()]\n",
    "densidad = [nx.density(g1) for g1 in dicGrafos.values()]"
   ]
  },
  {
   "cell_type": "code",
   "execution_count": 9,
   "metadata": {},
   "outputs": [
    {
     "data": {
      "text/plain": [
       "Text(0,0.5,'Densidad del grafo')"
      ]
     },
     "execution_count": 9,
     "metadata": {},
     "output_type": "execute_result"
    }
   ],
   "source": [
    "%matplotlib tk\n",
    "ax = plt.gca()\n",
    "ax.plot(nodos, densidad, 'bo')\n",
    "plt.xlabel('Cantidad de usuarios del subreddit')\n",
    "plt.ylabel('Densidad del grafo')"
   ]
  },
  {
   "cell_type": "code",
   "execution_count": 23,
   "metadata": {},
   "outputs": [],
   "source": [
    "def filtrarNodos(nodo,elGrafo):\n",
    "    peso = elGrafo.out_degree(nodo, weight='weight')\n",
    "    return peso > 10\n",
    "cantidadUsersMuchosComments = [len([x for x in g1.nodes() if filtrarNodos(x,g1)]) for g1 in dicGrafos.values()]"
   ]
  },
  {
   "cell_type": "code",
   "execution_count": 24,
   "metadata": {},
   "outputs": [
    {
     "data": {
      "text/plain": [
       "Text(0,0.5,'Usuarios frecuentes')"
      ]
     },
     "execution_count": 24,
     "metadata": {},
     "output_type": "execute_result"
    }
   ],
   "source": [
    "%matplotlib tk\n",
    "ax = plt.gca()\n",
    "ax.plot(nodos, cantidadUsersMuchosComments, 'bo')\n",
    "plt.xlabel('Cantidad de usuarios del subreddit')\n",
    "plt.ylabel('Usuarios frecuentes')"
   ]
  },
  {
   "cell_type": "code",
   "execution_count": null,
   "metadata": {},
   "outputs": [],
   "source": []
  }
 ],
 "metadata": {
  "kernelspec": {
   "display_name": "Python 3",
   "language": "python",
   "name": "python3"
  },
  "language_info": {
   "codemirror_mode": {
    "name": "ipython",
    "version": 3
   },
   "file_extension": ".py",
   "mimetype": "text/x-python",
   "name": "python",
   "nbconvert_exporter": "python",
   "pygments_lexer": "ipython3",
   "version": "3.6.7"
  }
 },
 "nbformat": 4,
 "nbformat_minor": 2
}
